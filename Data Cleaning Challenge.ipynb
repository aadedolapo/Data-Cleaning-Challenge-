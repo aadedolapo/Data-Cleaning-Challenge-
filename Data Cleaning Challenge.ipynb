{
 "cells": [
  {
   "cell_type": "markdown",
   "metadata": {},
   "source": [
    "### Data Cleaning Challenge\n",
    "\n",
    "**Tasks:**\n",
    "<p style =\"font-family:georgia,garamond,serif;font-size:16px;\">\n",
    "1. Straighten it out to a table of at least 7 columns.\n",
    "<p style =\"font-family:georgia,garamond,serif;font-size:16px;\">    \n",
    "2. Identify the top 5 predominant ages in the datasets.\n",
    "<p style =\"font-family:georgia,garamond,serif;font-size:16px;\">\n",
    "3. Determine the Bank with the largest share of transactions\n",
    "<p style =\"font-family:georgia,garamond,serif;font-size:16px;\">\n",
    "4. Show a distribution of channels used on transactions.\n",
    "</p>"
   ]
  },
  {
   "cell_type": "code",
   "execution_count": 1,
   "metadata": {},
   "outputs": [],
   "source": [
    "import pandas as pd\n",
    "import numpy as np\n",
    "import matplotlib.pyplot as plt\n",
    "import seaborn as sns\n",
    "from datetime import datetime, date\n",
    "%matplotlib inline\n",
    "import warnings\n",
    "warnings.filterwarnings('ignore')"
   ]
  },
  {
   "cell_type": "code",
   "execution_count": 2,
   "metadata": {},
   "outputs": [],
   "source": [
    "df = pd .read_excel(r'Killa.xlsx',sheet_name='Sheet1')"
   ]
  },
  {
   "cell_type": "code",
   "execution_count": 3,
   "metadata": {},
   "outputs": [
    {
     "data": {
      "text/html": [
       "<div>\n",
       "<style scoped>\n",
       "    .dataframe tbody tr th:only-of-type {\n",
       "        vertical-align: middle;\n",
       "    }\n",
       "\n",
       "    .dataframe tbody tr th {\n",
       "        vertical-align: top;\n",
       "    }\n",
       "\n",
       "    .dataframe thead th {\n",
       "        text-align: right;\n",
       "    }\n",
       "</style>\n",
       "<table border=\"1\" class=\"dataframe\">\n",
       "  <thead>\n",
       "    <tr style=\"text-align: right;\">\n",
       "      <th></th>\n",
       "      <th>First Name</th>\n",
       "      <th>Last Name</th>\n",
       "      <th>transaction</th>\n",
       "    </tr>\n",
       "  </thead>\n",
       "  <tbody>\n",
       "    <tr>\n",
       "      <td>0</td>\n",
       "      <td>nooeukw</td>\n",
       "      <td>uuoaklowalb</td>\n",
       "      <td>{'tx_id': '5ed3d67b8723c11444c43283', 'tx_date...</td>\n",
       "    </tr>\n",
       "    <tr>\n",
       "      <td>1</td>\n",
       "      <td>angulbo</td>\n",
       "      <td>seagn</td>\n",
       "      <td>{'tx_id': '5ed3d67b8723c11444c43283', 'tx_date...</td>\n",
       "    </tr>\n",
       "    <tr>\n",
       "      <td>2</td>\n",
       "      <td>dukowi</td>\n",
       "      <td>eukloomja</td>\n",
       "      <td>{'tx_id': '5ed3d67b8723c11444c43283', 'tx_date...</td>\n",
       "    </tr>\n",
       "    <tr>\n",
       "      <td>3</td>\n",
       "      <td>ltuoawiob</td>\n",
       "      <td>uuilawobmn</td>\n",
       "      <td>{'tx_id': '5ed3d67b8723c11444c43283', 'tx_date...</td>\n",
       "    </tr>\n",
       "    <tr>\n",
       "      <td>4</td>\n",
       "      <td>nakuolo</td>\n",
       "      <td>donald</td>\n",
       "      <td>{'tx_id': '5ed3d67b8723c11444c43283', 'tx_date...</td>\n",
       "    </tr>\n",
       "  </tbody>\n",
       "</table>\n",
       "</div>"
      ],
      "text/plain": [
       "  First Name    Last Name                                        transaction\n",
       "0    nooeukw  uuoaklowalb  {'tx_id': '5ed3d67b8723c11444c43283', 'tx_date...\n",
       "1    angulbo        seagn  {'tx_id': '5ed3d67b8723c11444c43283', 'tx_date...\n",
       "2     dukowi    eukloomja  {'tx_id': '5ed3d67b8723c11444c43283', 'tx_date...\n",
       "3  ltuoawiob   uuilawobmn  {'tx_id': '5ed3d67b8723c11444c43283', 'tx_date...\n",
       "4    nakuolo       donald  {'tx_id': '5ed3d67b8723c11444c43283', 'tx_date..."
      ]
     },
     "execution_count": 3,
     "metadata": {},
     "output_type": "execute_result"
    }
   ],
   "source": [
    "df.head()"
   ]
  },
  {
   "cell_type": "code",
   "execution_count": 4,
   "metadata": {
    "scrolled": true
   },
   "outputs": [
    {
     "name": "stdout",
     "output_type": "stream",
     "text": [
      "<class 'pandas.core.frame.DataFrame'>\n",
      "RangeIndex: 127 entries, 0 to 126\n",
      "Data columns (total 3 columns):\n",
      "First Name     127 non-null object\n",
      "Last Name      127 non-null object\n",
      "transaction    127 non-null object\n",
      "dtypes: object(3)\n",
      "memory usage: 3.1+ KB\n"
     ]
    }
   ],
   "source": [
    "df.info()"
   ]
  },
  {
   "cell_type": "markdown",
   "metadata": {},
   "source": [
    "<p style =\"font-family:georgia,garamond,serif;font-size:16px;\">\n",
    "It's time to do some cleaning.\n",
    "<p style =\"font-family:georgia,garamond,serif;font-size:16px;\">\n",
    "First, let's check the transcation column. seems that's where we will be doing most of the cleaning."
   ]
  },
  {
   "cell_type": "code",
   "execution_count": 5,
   "metadata": {},
   "outputs": [
    {
     "data": {
      "text/plain": [
       "\"{'tx_id': '5ed3d67b8723c11444c43283', 'tx_date': '2020-06-13T05:28:47.543000Z', 'tx_amount': 6192, 'tx_mode': 'Debit', 'tx_channel': 'web', 'bank_name': 'QBank', 'dob': ['1992-11-10 00:00:00']}\""
      ]
     },
     "execution_count": 5,
     "metadata": {},
     "output_type": "execute_result"
    }
   ],
   "source": [
    "df['transaction'][0]"
   ]
  },
  {
   "cell_type": "markdown",
   "metadata": {},
   "source": [
    "<p style =\"font-family:georgia,garamond,serif;font-size:16px;\">\n",
    "    Below, we want to convert the strings to dictionaries using the <b><i>literal_eval</i></b> method from the abstract syntax tree(AST).\n",
    "</p>"
   ]
  },
  {
   "cell_type": "code",
   "execution_count": 6,
   "metadata": {},
   "outputs": [],
   "source": [
    "from ast import literal_eval"
   ]
  },
  {
   "cell_type": "code",
   "execution_count": 7,
   "metadata": {},
   "outputs": [
    {
     "data": {
      "text/plain": [
       "0      {'tx_id': '5ed3d67b8723c11444c43283', 'tx_date...\n",
       "1      {'tx_id': '5ed3d67b8723c11444c43283', 'tx_date...\n",
       "2      {'tx_id': '5ed3d67b8723c11444c43283', 'tx_date...\n",
       "3      {'tx_id': '5ed3d67b8723c11444c43283', 'tx_date...\n",
       "4      {'tx_id': '5ed3d67b8723c11444c43283', 'tx_date...\n",
       "                             ...                        \n",
       "122    {'tx_id': '5ed3d67b8723c11444c43283', 'tx_date...\n",
       "123    {'tx_id': '5ed3d67b8723c11444c43283', 'tx_date...\n",
       "124    {'tx_id': '5ed3d67b8723c11444c43283', 'tx_date...\n",
       "125    {'tx_id': '5ed3d67b8723c11444c43283', 'tx_date...\n",
       "126    {'tx_id': '5ed3d67b8723c11444c43283', 'tx_date...\n",
       "Name: transaction, Length: 127, dtype: object"
      ]
     },
     "execution_count": 7,
     "metadata": {},
     "output_type": "execute_result"
    }
   ],
   "source": [
    "df['transaction'] = df['transaction'].apply(literal_eval)\n",
    "df['transaction']"
   ]
  },
  {
   "cell_type": "markdown",
   "metadata": {},
   "source": [
    "### Task 1: Straighten it out to a table of at least 7 columns\n",
    "\n",
    "\n",
    "<p style =\"font-family:georgia,garamond,serif;font-size:16px;\">\n",
    "The data format in the transaction column is a JSON object. let's import json_normalize method from pandas.io.json. This normalize seni-structured JSON data into a flat table.\n",
    "    </p>"
   ]
  },
  {
   "cell_type": "code",
   "execution_count": 8,
   "metadata": {},
   "outputs": [],
   "source": [
    "from pandas.io.json import json_normalize"
   ]
  },
  {
   "cell_type": "code",
   "execution_count": 9,
   "metadata": {},
   "outputs": [
    {
     "data": {
      "text/html": [
       "<div>\n",
       "<style scoped>\n",
       "    .dataframe tbody tr th:only-of-type {\n",
       "        vertical-align: middle;\n",
       "    }\n",
       "\n",
       "    .dataframe tbody tr th {\n",
       "        vertical-align: top;\n",
       "    }\n",
       "\n",
       "    .dataframe thead th {\n",
       "        text-align: right;\n",
       "    }\n",
       "</style>\n",
       "<table border=\"1\" class=\"dataframe\">\n",
       "  <thead>\n",
       "    <tr style=\"text-align: right;\">\n",
       "      <th></th>\n",
       "      <th>tx_id</th>\n",
       "      <th>tx_date</th>\n",
       "      <th>tx_amount</th>\n",
       "      <th>tx_mode</th>\n",
       "      <th>tx_channel</th>\n",
       "      <th>bank_name</th>\n",
       "      <th>dob</th>\n",
       "    </tr>\n",
       "  </thead>\n",
       "  <tbody>\n",
       "    <tr>\n",
       "      <td>0</td>\n",
       "      <td>5ed3d67b8723c11444c43283</td>\n",
       "      <td>2020-06-13T05:28:47.543000Z</td>\n",
       "      <td>6192</td>\n",
       "      <td>Debit</td>\n",
       "      <td>web</td>\n",
       "      <td>QBank</td>\n",
       "      <td>[1992-11-10 00:00:00]</td>\n",
       "    </tr>\n",
       "    <tr>\n",
       "      <td>1</td>\n",
       "      <td>5ed3d67b8723c11444c43283</td>\n",
       "      <td>2020-06-12T20:22:38.986000Z</td>\n",
       "      <td>38445</td>\n",
       "      <td>Debit</td>\n",
       "      <td>mobile</td>\n",
       "      <td>ABank</td>\n",
       "      <td>[n/a]</td>\n",
       "    </tr>\n",
       "  </tbody>\n",
       "</table>\n",
       "</div>"
      ],
      "text/plain": [
       "                      tx_id                      tx_date  tx_amount tx_mode  \\\n",
       "0  5ed3d67b8723c11444c43283  2020-06-13T05:28:47.543000Z       6192   Debit   \n",
       "1  5ed3d67b8723c11444c43283  2020-06-12T20:22:38.986000Z      38445   Debit   \n",
       "\n",
       "  tx_channel bank_name                    dob  \n",
       "0        web     QBank  [1992-11-10 00:00:00]  \n",
       "1     mobile     ABank                  [n/a]  "
      ]
     },
     "execution_count": 9,
     "metadata": {},
     "output_type": "execute_result"
    }
   ],
   "source": [
    "transaction = json_normalize(df['transaction'])\n",
    "transaction.head(2)"
   ]
  },
  {
   "cell_type": "code",
   "execution_count": 10,
   "metadata": {},
   "outputs": [],
   "source": [
    "# Dropping the transaction column from the main dataset\n",
    "df.drop('transaction',axis=1, inplace=True)"
   ]
  },
  {
   "cell_type": "code",
   "execution_count": 11,
   "metadata": {},
   "outputs": [],
   "source": [
    "# concatenating the transaction dataframe with the main dataframe\n",
    "df = pd.concat([df,transaction],axis=1)"
   ]
  },
  {
   "cell_type": "code",
   "execution_count": 12,
   "metadata": {},
   "outputs": [
    {
     "data": {
      "text/html": [
       "<div>\n",
       "<style scoped>\n",
       "    .dataframe tbody tr th:only-of-type {\n",
       "        vertical-align: middle;\n",
       "    }\n",
       "\n",
       "    .dataframe tbody tr th {\n",
       "        vertical-align: top;\n",
       "    }\n",
       "\n",
       "    .dataframe thead th {\n",
       "        text-align: right;\n",
       "    }\n",
       "</style>\n",
       "<table border=\"1\" class=\"dataframe\">\n",
       "  <thead>\n",
       "    <tr style=\"text-align: right;\">\n",
       "      <th></th>\n",
       "      <th>First Name</th>\n",
       "      <th>Last Name</th>\n",
       "      <th>tx_id</th>\n",
       "      <th>tx_date</th>\n",
       "      <th>tx_amount</th>\n",
       "      <th>tx_mode</th>\n",
       "      <th>tx_channel</th>\n",
       "      <th>bank_name</th>\n",
       "      <th>dob</th>\n",
       "    </tr>\n",
       "  </thead>\n",
       "  <tbody>\n",
       "    <tr>\n",
       "      <td>0</td>\n",
       "      <td>nooeukw</td>\n",
       "      <td>uuoaklowalb</td>\n",
       "      <td>5ed3d67b8723c11444c43283</td>\n",
       "      <td>2020-06-13T05:28:47.543000Z</td>\n",
       "      <td>6192</td>\n",
       "      <td>Debit</td>\n",
       "      <td>web</td>\n",
       "      <td>QBank</td>\n",
       "      <td>[1992-11-10 00:00:00]</td>\n",
       "    </tr>\n",
       "    <tr>\n",
       "      <td>1</td>\n",
       "      <td>angulbo</td>\n",
       "      <td>seagn</td>\n",
       "      <td>5ed3d67b8723c11444c43283</td>\n",
       "      <td>2020-06-12T20:22:38.986000Z</td>\n",
       "      <td>38445</td>\n",
       "      <td>Debit</td>\n",
       "      <td>mobile</td>\n",
       "      <td>ABank</td>\n",
       "      <td>[n/a]</td>\n",
       "    </tr>\n",
       "  </tbody>\n",
       "</table>\n",
       "</div>"
      ],
      "text/plain": [
       "  First Name    Last Name                     tx_id  \\\n",
       "0    nooeukw  uuoaklowalb  5ed3d67b8723c11444c43283   \n",
       "1    angulbo        seagn  5ed3d67b8723c11444c43283   \n",
       "\n",
       "                       tx_date  tx_amount tx_mode tx_channel bank_name  \\\n",
       "0  2020-06-13T05:28:47.543000Z       6192   Debit        web     QBank   \n",
       "1  2020-06-12T20:22:38.986000Z      38445   Debit     mobile     ABank   \n",
       "\n",
       "                     dob  \n",
       "0  [1992-11-10 00:00:00]  \n",
       "1                  [n/a]  "
      ]
     },
     "execution_count": 12,
     "metadata": {},
     "output_type": "execute_result"
    }
   ],
   "source": [
    "df.head(2)"
   ]
  },
  {
   "cell_type": "code",
   "execution_count": 13,
   "metadata": {},
   "outputs": [
    {
     "data": {
      "text/plain": [
       "['1992-11-10 00:00:00']"
      ]
     },
     "execution_count": 13,
     "metadata": {},
     "output_type": "execute_result"
    }
   ],
   "source": [
    "df['dob'][0]"
   ]
  },
  {
   "cell_type": "code",
   "execution_count": 14,
   "metadata": {},
   "outputs": [],
   "source": [
    "# This is to convert list to a pandas series using the apply method\n",
    "df['dob'] = df['dob'].apply(pd.Series)"
   ]
  },
  {
   "cell_type": "code",
   "execution_count": 15,
   "metadata": {},
   "outputs": [],
   "source": [
    "# Replace 'n/a' with Nan\n",
    "df['dob'].replace('n/a',np.nan,inplace=True)"
   ]
  },
  {
   "cell_type": "code",
   "execution_count": 16,
   "metadata": {},
   "outputs": [
    {
     "data": {
      "text/plain": [
       "82"
      ]
     },
     "execution_count": 16,
     "metadata": {},
     "output_type": "execute_result"
    }
   ],
   "source": [
    "df['dob'].isnull().sum()"
   ]
  },
  {
   "cell_type": "code",
   "execution_count": 17,
   "metadata": {},
   "outputs": [],
   "source": [
    "# Changing the data type to only date\n",
    "df['dob'] = pd.to_datetime(df['dob']).dt.date"
   ]
  },
  {
   "cell_type": "code",
   "execution_count": 18,
   "metadata": {},
   "outputs": [
    {
     "data": {
      "text/plain": [
       "datetime.date(1992, 11, 10)"
      ]
     },
     "execution_count": 18,
     "metadata": {},
     "output_type": "execute_result"
    }
   ],
   "source": [
    "df['dob'][0]"
   ]
  },
  {
   "cell_type": "code",
   "execution_count": 19,
   "metadata": {},
   "outputs": [
    {
     "data": {
      "text/plain": [
       "82"
      ]
     },
     "execution_count": 19,
     "metadata": {},
     "output_type": "execute_result"
    }
   ],
   "source": [
    "# Number of null values\n",
    "df['dob'].isnull().sum()"
   ]
  },
  {
   "cell_type": "code",
   "execution_count": 20,
   "metadata": {},
   "outputs": [],
   "source": [
    "# changing the data type to only date\n",
    "df['tx_date'] = pd.to_datetime(df['tx_date']).dt.date"
   ]
  },
  {
   "cell_type": "code",
   "execution_count": 21,
   "metadata": {},
   "outputs": [
    {
     "data": {
      "text/plain": [
       "array([datetime.date(2020, 6, 13), datetime.date(2020, 6, 12)],\n",
       "      dtype=object)"
      ]
     },
     "execution_count": 21,
     "metadata": {},
     "output_type": "execute_result"
    }
   ],
   "source": [
    "df['tx_date'].unique()"
   ]
  },
  {
   "cell_type": "code",
   "execution_count": 22,
   "metadata": {},
   "outputs": [],
   "source": [
    "# checking if there's any date greater than the transaction date\n",
    "df['dob'] = df['dob'].where(df['dob']<df['tx_date'])"
   ]
  },
  {
   "cell_type": "code",
   "execution_count": 23,
   "metadata": {},
   "outputs": [],
   "source": [
    "# getting the age by substracting the date of birth column from the transaction date column\n",
    "df['age'] = (df['tx_date'] - df['dob']).astype('<m8[Y]')"
   ]
  },
  {
   "cell_type": "code",
   "execution_count": 24,
   "metadata": {},
   "outputs": [
    {
     "data": {
      "text/plain": [
       "82"
      ]
     },
     "execution_count": 24,
     "metadata": {},
     "output_type": "execute_result"
    }
   ],
   "source": [
    "df['age'].isnull().sum()"
   ]
  },
  {
   "cell_type": "code",
   "execution_count": 25,
   "metadata": {},
   "outputs": [
    {
     "data": {
      "text/html": [
       "<div>\n",
       "<style scoped>\n",
       "    .dataframe tbody tr th:only-of-type {\n",
       "        vertical-align: middle;\n",
       "    }\n",
       "\n",
       "    .dataframe tbody tr th {\n",
       "        vertical-align: top;\n",
       "    }\n",
       "\n",
       "    .dataframe thead th {\n",
       "        text-align: right;\n",
       "    }\n",
       "</style>\n",
       "<table border=\"1\" class=\"dataframe\">\n",
       "  <thead>\n",
       "    <tr style=\"text-align: right;\">\n",
       "      <th></th>\n",
       "      <th>First Name</th>\n",
       "      <th>Last Name</th>\n",
       "      <th>tx_id</th>\n",
       "      <th>tx_date</th>\n",
       "      <th>tx_amount</th>\n",
       "      <th>tx_mode</th>\n",
       "      <th>tx_channel</th>\n",
       "      <th>bank_name</th>\n",
       "      <th>dob</th>\n",
       "      <th>age</th>\n",
       "    </tr>\n",
       "  </thead>\n",
       "  <tbody>\n",
       "    <tr>\n",
       "      <td>0</td>\n",
       "      <td>nooeukw</td>\n",
       "      <td>uuoaklowalb</td>\n",
       "      <td>5ed3d67b8723c11444c43283</td>\n",
       "      <td>2020-06-13</td>\n",
       "      <td>6192</td>\n",
       "      <td>Debit</td>\n",
       "      <td>web</td>\n",
       "      <td>QBank</td>\n",
       "      <td>1992-11-10</td>\n",
       "      <td>27.0</td>\n",
       "    </tr>\n",
       "    <tr>\n",
       "      <td>1</td>\n",
       "      <td>angulbo</td>\n",
       "      <td>seagn</td>\n",
       "      <td>5ed3d67b8723c11444c43283</td>\n",
       "      <td>2020-06-12</td>\n",
       "      <td>38445</td>\n",
       "      <td>Debit</td>\n",
       "      <td>mobile</td>\n",
       "      <td>ABank</td>\n",
       "      <td>NaN</td>\n",
       "      <td>NaN</td>\n",
       "    </tr>\n",
       "  </tbody>\n",
       "</table>\n",
       "</div>"
      ],
      "text/plain": [
       "  First Name    Last Name                     tx_id     tx_date  tx_amount  \\\n",
       "0    nooeukw  uuoaklowalb  5ed3d67b8723c11444c43283  2020-06-13       6192   \n",
       "1    angulbo        seagn  5ed3d67b8723c11444c43283  2020-06-12      38445   \n",
       "\n",
       "  tx_mode tx_channel bank_name         dob   age  \n",
       "0   Debit        web     QBank  1992-11-10  27.0  \n",
       "1   Debit     mobile     ABank         NaN   NaN  "
      ]
     },
     "execution_count": 25,
     "metadata": {},
     "output_type": "execute_result"
    }
   ],
   "source": [
    "df.head(2)"
   ]
  },
  {
   "cell_type": "markdown",
   "metadata": {},
   "source": [
    "### Task 2:  Identify the top 5 predominant ages in the datasets"
   ]
  },
  {
   "cell_type": "code",
   "execution_count": 26,
   "metadata": {},
   "outputs": [
    {
     "data": {
      "text/plain": [
       "28.0    6\n",
       "39.0    5\n",
       "20.0    4\n",
       "43.0    4\n",
       "31.0    4\n",
       "Name: age, dtype: int64"
      ]
     },
     "execution_count": 26,
     "metadata": {},
     "output_type": "execute_result"
    }
   ],
   "source": [
    "top6_ages = df['age'].value_counts().head(5)\n",
    "top6_ages"
   ]
  },
  {
   "cell_type": "code",
   "execution_count": 27,
   "metadata": {},
   "outputs": [],
   "source": [
    "# creating a function that performs a countplot\n",
    "def Plot_a_countplot(df, col, title):\n",
    "    \"\"\"\n",
    "    Create a count plot from a value count on the column specified\n",
    "    \n",
    "    Args: \n",
    "        df= dataframe \n",
    "        col= name of column\n",
    "        title = title desired\n",
    "    \n",
    "    \"\"\"\n",
    "    plt.figure(figsize=(8,6))\n",
    "    data = df[col].value_counts().head(5)\n",
    "    ax = sns.countplot(x=df[col],\n",
    "                  order=data.index,\n",
    "                  lw=1,\n",
    "                  palette='cividis',\n",
    "                  edgecolor='k'*df[col].nunique()\n",
    "                  )\n",
    "    for p in ax.patches:\n",
    "        ax.annotate(format(p.get_height()),(p.get_x() + p.get_width()/2.,p.get_height()),\n",
    "                ha='center',va='center',xytext=(0,10),textcoords='offset points',weight='bold')\n",
    "    plt.title(title.title(),fontsize=16)\n",
    "    plt.xticks(fontsize=12,weight='bold')\n",
    "    plt.xlabel(col,fontsize=12,weight='bold')"
   ]
  },
  {
   "cell_type": "code",
   "execution_count": 28,
   "metadata": {},
   "outputs": [
    {
     "data": {
      "image/png": "[encoded data removed]",
      "text/plain": [
       "<Figure size 576x432 with 1 Axes>"
      ]
     },
     "metadata": {
      "needs_background": "light"
     },
     "output_type": "display_data"
    }
   ],
   "source": [
    "Plot_a_countplot(df,'age',\"the top 5 predominant ages in the datasets\")"
   ]
  },
  {
   "cell_type": "markdown",
   "metadata": {},
   "source": [
    "### Task 3: Determine the Bank with the largest share of transactions"
   ]
  },
  {
   "cell_type": "code",
   "execution_count": 29,
   "metadata": {},
   "outputs": [
    {
     "data": {
      "text/plain": [
       "ABank    32\n",
       "QBank    32\n",
       "GBank    32\n",
       "KBank    31\n",
       "Name: bank_name, dtype: int64"
      ]
     },
     "execution_count": 29,
     "metadata": {},
     "output_type": "execute_result"
    }
   ],
   "source": [
    "bank_transactions = df['bank_name'].value_counts()\n",
    "bank_transactions"
   ]
  },
  {
   "cell_type": "code",
   "execution_count": 30,
   "metadata": {},
   "outputs": [
    {
     "data": {
      "image/png": "[encoded data removed]",
      "text/plain": [
       "<Figure size 576x432 with 1 Axes>"
      ]
     },
     "metadata": {
      "needs_background": "light"
     },
     "output_type": "display_data"
    }
   ],
   "source": [
    "Plot_a_countplot(df,'bank_name',\"Banks with the largest share of transactions\")"
   ]
  },
  {
   "cell_type": "markdown",
   "metadata": {},
   "source": [
    "### Task 4: Show a distribution of channels used on transactions."
   ]
  },
  {
   "cell_type": "code",
   "execution_count": 31,
   "metadata": {},
   "outputs": [
    {
     "data": {
      "text/plain": [
       "Text(0.5, 1.0, 'Show a distribution of channels used on transactions')"
      ]
     },
     "execution_count": 31,
     "metadata": {},
     "output_type": "execute_result"
    },
    {
     "data": {
      "image/png": "[encoded data removed]",
      "text/plain": [
       "<Figure size 432x504 with 1 Axes>"
      ]
     },
     "metadata": {},
     "output_type": "display_data"
    }
   ],
   "source": [
    "fig=plt.figure(figsize=(6,7))\n",
    "sizes = df['tx_channel'].value_counts()\n",
    "labels=['web','mobile']\n",
    "color = ['lightskyblue','gold']\n",
    "plt.pie(sizes,labels=labels,shadow=True,colors=color,autopct='%1.1f%%',\n",
    "              startangle=90,radius=1,explode=[0.07,0])\n",
    "circle = plt.Circle((0,0),0.8,fc='white')\n",
    "plt.gca().add_artist(circle)\n",
    "plt.title('Show a distribution of channels used on transactions',fontsize=16,weight='bold')"
   ]
  },
  {
   "cell_type": "code",
   "execution_count": 32,
   "metadata": {},
   "outputs": [],
   "source": [
    "df.to_csv(\"new_killa.csv\",index=False)"
   ]
  },
  {
   "cell_type": "markdown",
   "metadata": {},
   "source": [
    "**Adebo Dolapo**\n",
    "\n",
    "\n",
    "**26/10/2020**"
   ]
  }
 ],
 "metadata": {
  "kernelspec": {
   "display_name": "Python 3",
   "language": "python",
   "name": "python3"
  },
  "language_info": {
   "codemirror_mode": {
    "name": "ipython",
    "version": 3
   },
   "file_extension": ".py",
   "mimetype": "text/x-python",
   "name": "python",
   "nbconvert_exporter": "python",
   "pygments_lexer": "ipython3",
   "version": "3.7.4"
  }
 },
 "nbformat": 4,
 "nbformat_minor": 2
}
